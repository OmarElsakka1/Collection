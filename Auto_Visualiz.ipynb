{
 "cells": [
  {
   "cell_type": "code",
   "execution_count": 20,
   "id": "84cb7537-110d-466e-b1b0-c1e3d74a0ebe",
   "metadata": {},
   "outputs": [],
   "source": [
    "import pandas as pd \n",
    "import matplotlib.pyplot as plt\n",
    "import seaborn as sns\n",
    "import numpy as np \n",
    "from scipy.stats import norm\n",
    "from sklearn. preprocessing import StandardScaler\n",
    "from scipy import stats\n",
    "import datetime"
   ]
  },
  {
   "cell_type": "code",
   "execution_count": 3,
   "id": "677575ad-067a-40cd-afbe-b9f3d52c46a7",
   "metadata": {},
   "outputs": [],
   "source": [
    "# This function to open the entered file whatever it was csv or xlsx\n",
    "\n",
    "def Read_file(Path):  \n",
    "    try:\n",
    "        Data = pd.read_csv(Path)\n",
    "    except:\n",
    "        Data = pd.read_excel(Path)\n",
    "        \n",
    "    return Data"
   ]
  },
  {
   "cell_type": "code",
   "execution_count": 4,
   "id": "4cd6dac9-c84d-44dd-beca-1f2f9d999e29",
   "metadata": {},
   "outputs": [],
   "source": [
    "# This function to handle the case of existance of percentage in sting form(convert it back to integers)\n",
    "\n",
    "def Is_Percentage(Column): # column such as Data['Percentage']\n",
    "    for i in range(Column.shape[0]):\n",
    "        try:\n",
    "            Column[i] = Column[i].replace('%','').strip() #removing\n",
    "            Column[i] = Column[i].replace(',','').strip()\n",
    "        except:\n",
    "            pass\n",
    "    try:\n",
    "        Column.astype('float')\n",
    "    except:\n",
    "        return False\n",
    "    \n",
    "    return True"
   ]
  },
  {
   "cell_type": "code",
   "execution_count": 5,
   "id": "ca3f9eff-f12e-416c-b910-e5d865b9012f",
   "metadata": {},
   "outputs": [],
   "source": [
    "#  This function to handle the case of existance of price in sting form(convert it back to integers)\n",
    "\n",
    "def Is_Currency(Column): # column such as Data['Price']\n",
    "    for i in range(Column.shape[0]):\n",
    "        try:\n",
    "            Column[i] = Column[i].replace('$','').strip() #removing\n",
    "            Column[i] = Column[i].replace(',','').strip()\n",
    "            print(Column[i])\n",
    "        except:\n",
    "            pass\n",
    "    try:\n",
    "        Column.astype('float')\n",
    "    except:\n",
    "        return False\n",
    "    \n",
    "    return True"
   ]
  },
  {
   "cell_type": "code",
   "execution_count": 6,
   "id": "4da858f0-9db0-4905-a187-66714bb8c8ec",
   "metadata": {},
   "outputs": [],
   "source": [
    "# This function is to extracting the key columns that will not be useful in visualizations\n",
    "\n",
    "def Check_Key(Column):\n",
    "    return Column.is_unique"
   ]
  },
  {
   "cell_type": "code",
   "execution_count": 23,
   "id": "3810a458-94d8-495e-97b1-0305d5a38b17",
   "metadata": {},
   "outputs": [],
   "source": [
    "# Drawing content over dictionary\n",
    "\n",
    "def DrawThing(dic, Name):\n",
    "    X_List = []\n",
    "    Y_List = []\n",
    "    for value in sorted(dic.items(), key=lambda x: x[0], reverse=False):\n",
    "        X_List.append(value[0])\n",
    "        Y_List.append(value[1])\n",
    "    plt.plot(X_List, Y_List)\n",
    "    plt.ylabel('Number of records over Years')\n",
    "    plt.xlabel('{}'.format(Name))\n",
    "    plt.title('{}s Activity Graph'.format(Name))\n",
    "    plt.show()"
   ]
  },
  {
   "cell_type": "code",
   "execution_count": 107,
   "id": "c88ae463-d470-4a20-a423-356069afa338",
   "metadata": {},
   "outputs": [],
   "source": [
    "# This function is responsible for drawing the activity over days, months, and years.\n",
    "\n",
    "def DrawActivity(Data_List):\n",
    "    Day_list = []\n",
    "    Month_list = []\n",
    "    Year_list = []\n",
    "    \n",
    "    for i in range (len(Data_List)):\n",
    "        try:\n",
    "            datem = datetime.datetime.strptime(str(Data_List[i]), \"%d/%m/%Y\")\n",
    "        except:\n",
    "            datem = datetime.datetime.strptime(str(Data_List[i]), \"%Y-%m-%d %H:%M:%S\")\n",
    "    \n",
    "        day = datem.day\n",
    "        month = datem.month\n",
    "        year = datem.year\n",
    "        \n",
    "        Day_list.append(day)\n",
    "        Month_list.append(month)\n",
    "        Year_list.append(year)\n",
    "        \n",
    "    dic_Day = {x:Day_list.count(x) for x in Day_list}\n",
    "    dic_Month = {x:Month_list.count(x) for x in Month_list}\n",
    "    dic_Year = {x:Year_list.count(x) for x in Year_list}\n",
    "     \n",
    "    print(\"This is the total day activity curve over years\")\n",
    "    DrawThing(dic_Day, 'Day')\n",
    "    print(\"This is the total month activity curve over years\")\n",
    "    DrawThing(dic_Month, 'Month')\n",
    "    print(\"This is the total year activity curve over years\")\n",
    "    DrawThing(dic_Year, 'Year')"
   ]
  },
  {
   "cell_type": "code",
   "execution_count": 108,
   "id": "649e1dff-83d7-43db-977f-c749ca75871e",
   "metadata": {},
   "outputs": [],
   "source": [
    "def Defining_Keys(quantitative_data, Quantitative, qualitative_data, Qualitative):\n",
    "    \n",
    "    Trigger = 0\n",
    "    number = 0      # to adjust index after removing from list\n",
    "\n",
    "    for column1 in range(quantitative_data[Quantitative].shape[1]):\n",
    "        Checking = Check_Key(quantitative_data[Quantitative[column1 - number]])\n",
    "        if (Checking):\n",
    "            Trigger +=1\n",
    "            Key = quantitative_data[Quantitative[column1 - number]]   # to edit\n",
    "            # Extracting Keys\n",
    "            Quantitative.remove(Key.name)\n",
    "            quantitative_data.drop(Key.name, inplace=True, axis=1)\n",
    "            number +=1\n",
    "            print(\"{} is a key\".format(Key.name))\n",
    "            \n",
    "            # uncomment the following lines for using the list of keys\n",
    "            '''\n",
    "            if (Trigger == 1):\n",
    "                Key_List = pd.concat([Key], axis=1, join='inner')\n",
    "            else:\n",
    "                Key_List = pd.concat([Key_List, Key], axis=1, join='inner')\n",
    "            '''\n",
    "                \n",
    "    Trigger = 0          \n",
    "    number = 0       # to adjust index after removing from list\n",
    "    # Selecting Key from Qualitative data \n",
    "    for column2 in range(qualitative_data[Qualitative].shape[1]):\n",
    "        Checking2 = Check_Key(qualitative_data[Qualitative[column2 - number]])\n",
    "        if (Checking2):\n",
    "            # Extracting Keys\n",
    "            Key = qualitative_data[Qualitative[column2 - number]]   # to edit\n",
    "            Qualitative.remove(Key.name)\n",
    "            qualitative_data.drop(Key.name, inplace=True, axis=1)\n",
    "            # Extracting Dates\n",
    "            number +=1\n",
    "            print(\"{} is a key\".format(Key.name))\n",
    "            \n",
    "            # uncomment the following lines for using the list of keys\n",
    "            '''\n",
    "            try: \n",
    "                Key_List\n",
    "                Key_List = pd.concat([Key_List, Key], axis=1, join='inner')\n",
    "            except:\n",
    "                Key_List = pd.concat([Key], axis=1, join='inner')\n",
    "            ''' "
   ]
  },
  {
   "cell_type": "code",
   "execution_count": 136,
   "id": "ef530d6d-7211-4700-8d8d-9015c7086b1f",
   "metadata": {},
   "outputs": [],
   "source": [
    "def AutoVisualize(Path): # The main function\n",
    "    \n",
    "    Data = Read_file(Path)\n",
    "    Data = Data.drop_duplicates()  # Dropping Duplicated data\n",
    "    \n",
    "    total = Data.isnull().sum().sort_values(ascending = False)\n",
    "    percent = (Data.isnull().sum()/Data.isnull().count()).sort_values(ascending = False)\n",
    "    missing_data = pd.concat([total, percent], axis = 1, keys = ['Total', 'Percent'])\n",
    "    # Dropping columns that has more than 30% nulls\n",
    "    for name in missing_data.Percent.index:\n",
    "        if (missing_data.Percent[name] > 0.3):\n",
    "            Data.drop(name, axis=1, inplace=True)\n",
    "         \n",
    "    # Defining the percentage of data that we will continue with after dropping all nulls\n",
    "    Percent_Loss = (Data.isna().any(axis=1).sum()) / Data.shape[0]\n",
    "    print(\"If we will drop the whole null values, we will continue with only {}%\".format((1-Percent_Loss)*100))\n",
    "    \n",
    "    \n",
    "    #Dropping all nulls -------------------------------------------( to be revised)\n",
    "    Data = Data.dropna().reset_index(drop=True) # reset_index to shuffle index after deleting \n",
    "    \n",
    "    \n",
    "    # categorizing the data is important to choose the best suitable visualization polting\n",
    "    Quantitative = [f for f in Data.columns if Data.dtypes[f] in ['int64', 'float64']] # Name of quantitative columns\n",
    "    Qualitative = [f for f in Data.columns if Data.dtypes[f] == ('object')] # Name of qualitative columns\n",
    "    Boolean =  [f for f in Data.columns if Data.dtypes[f] == ('bool')] # Name of boolean columns\n",
    "    # Please note that we can deal with boolean as same as object, but I prefered to separate them\n",
    "    \n",
    "    \n",
    "    \n",
    "    quantitative_data = Data[Quantitative]   # The quantitative data itself\n",
    "    qualitative_data = Data[Qualitative]     # The qualitative data itself\n",
    "    bool_data = Data[Boolean]                # The boolean data itself\n",
    "    \n",
    "\n",
    "    # Selecting Key from Quantitative & Qualitative data---------------------------------------------\n",
    "\n",
    "    Key_List = Defining_Keys(quantitative_data, Quantitative, qualitative_data, Qualitative)\n",
    "    \n",
    "    \n",
    "    # Representing Quantitative Data\n",
    "    quantitative_data.hist(bins=50, figsize=(20,15))\n",
    "    plt.show()\n",
    "    \n",
    "    # --------------------------------------------------------------------------------\n",
    "    # Plotting Bar graphs for qualitative data\n",
    "    \n",
    "    for column in range(qualitative_data[Qualitative].shape[1]):\n",
    "        Number_Categories = qualitative_data[Qualitative[column]].value_counts().shape[0]\n",
    "        if ( Number_Categories < 10):\n",
    "            f1 = plt.figure(column)\n",
    "            qualitative_data[Qualitative[column]].value_counts().plot(kind='bar')\n",
    "            f1.show()\n",
    "    \n",
    "    # Plotting Boolean data\n",
    "    for column in range(bool_data[Boolean].shape[1]):\n",
    "        f2 = plt.figure(column)\n",
    "        bool_data[Boolean[column]].value_counts().plot(kind='pie',autopct='%1.0f%%')\n",
    "        f2.show()\n",
    "            \n",
    "    # Plotting Pie graphs for qualitive data that has categories between 10 and 20\n",
    "    for column in range(qualitative_data[Qualitative].shape[1]):\n",
    "        Number_Categories = qualitative_data[Qualitative[column]].value_counts().shape[0]\n",
    "        if ( (Number_Categories >= 10) and (Number_Categories <= 20) ):\n",
    "            f3 = plt.figure(column)\n",
    "            qualitative_data[Qualitative[column]].value_counts().plot(kind='pie',autopct='%1.0f%%')\n",
    "            f3.show()\n",
    "            \n",
    "    #---------------------------------------------------------------------------------\n",
    "    # The next code is for representing data the activity over years\n",
    "    '''\n",
    "    adaptor = 0\n",
    "    for column in range(qualitative_data[Qualitative].shape[1]):\n",
    "        try :\n",
    "            Date_List = pd.to_datetime(qualitative_data[Qualitative[column - adaptor]])\n",
    "            #print(Date_List)\n",
    "            Name = qualitative_data[Qualitative[column - adaptor]].name\n",
    "            qualitative_data.drop(Name, inplace=True, axis=1)\n",
    "            Qualitative.remove(Name)\n",
    "            adaptor +=1\n",
    "        except ValueError:\n",
    "            pass\n",
    "    try:\n",
    "        Date_List\n",
    "        datetime.datetime.strptime(str(Data_List[0]), \"%Y-%m-%d %H:%M:%S\")\n",
    "        plt.show()\n",
    "        DrawActivity(Date_List)\n",
    "    except:\n",
    "        pass\n",
    "    '''"
   ]
  },
  {
   "cell_type": "code",
   "execution_count": 139,
   "id": "f077f2f3-cf5a-406b-8480-e2c72b787c79",
   "metadata": {},
   "outputs": [
    {
     "name": "stdout",
     "output_type": "stream",
     "text": [
      "If we will drop the whole null values, we will continue with only 92.85714285714286%\n"
     ]
    },
    {
     "data": {
      "image/png": "[encoded data removed]",
      "text/plain": [
       "<Figure size 1440x1080 with 6 Axes>"
      ]
     },
     "metadata": {
      "needs_background": "light"
     },
     "output_type": "display_data"
    },
    {
     "name": "stderr",
     "output_type": "stream",
     "text": [
      "C:\\Users\\Omar El-Sakka\\AppData\\Local\\Temp\\ipykernel_13524\\3576218868.py:60: UserWarning: Matplotlib is currently using module://matplotlib_inline.backend_inline, which is a non-GUI backend, so cannot show the figure.\n",
      "  f2.show()\n"
     ]
    },
    {
     "data": {
      "image/png": "[encoded data removed]",
      "text/plain": [
       "<Figure size 432x288 with 1 Axes>"
      ]
     },
     "metadata": {},
     "output_type": "display_data"
    }
   ],
   "source": [
    "#AutoVisualize('Police Shooting Dataset/fatal-police-shootings.xlsx')\n",
    "#AutoVisualize('Retail Data Analysis/Features data set.csv')\n",
    "#AutoVisualize('Retail Data Analysis/sales data-set.csv')\n",
    "#AutoVisualize('Retail Data Analysis/stores data-set.csv')"
   ]
  },
  {
   "cell_type": "code",
   "execution_count": null,
   "id": "b5f601d4-dad8-4541-ae34-a16492754a21",
   "metadata": {},
   "outputs": [],
   "source": []
  },
  {
   "cell_type": "code",
   "execution_count": null,
   "id": "b99e3920-6877-4e77-bcad-3bdd0b3e253f",
   "metadata": {},
   "outputs": [],
   "source": []
  },
  {
   "cell_type": "code",
   "execution_count": null,
   "id": "89a5a0e5-ff82-48fd-82ba-d438d733af81",
   "metadata": {},
   "outputs": [],
   "source": []
  },
  {
   "cell_type": "code",
   "execution_count": null,
   "id": "9030efa1-99fc-49fd-92d0-e6755a040f40",
   "metadata": {},
   "outputs": [],
   "source": []
  }
 ],
 "metadata": {
  "kernelspec": {
   "display_name": "Python 3 (ipykernel)",
   "language": "python",
   "name": "python3"
  },
  "language_info": {
   "codemirror_mode": {
    "name": "ipython",
    "version": 3
   },
   "file_extension": ".py",
   "mimetype": "text/x-python",
   "name": "python",
   "nbconvert_exporter": "python",
   "pygments_lexer": "ipython3",
   "version": "3.9.12"
  }
 },
 "nbformat": 4,
 "nbformat_minor": 5
}
